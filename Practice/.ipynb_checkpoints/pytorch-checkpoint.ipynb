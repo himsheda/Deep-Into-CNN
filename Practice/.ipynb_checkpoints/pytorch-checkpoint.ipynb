{
 "cells": [
  {
   "cell_type": "markdown",
   "id": "b9b20cce",
   "metadata": {},
   "source": [
    "## Tensors"
   ]
  },
  {
   "cell_type": "code",
   "execution_count": 38,
   "id": "468dd054",
   "metadata": {},
   "outputs": [],
   "source": [
    "import torch\n",
    "import numpy as np\n",
    "import matplotlib.pyplot as plt"
   ]
  },
  {
   "cell_type": "code",
   "execution_count": 2,
   "id": "03c62aae",
   "metadata": {},
   "outputs": [
    {
     "data": {
      "text/plain": [
       "tensor([[1., 1., 1.],\n",
       "        [1., 1., 1.]])"
      ]
     },
     "execution_count": 2,
     "metadata": {},
     "output_type": "execute_result"
    }
   ],
   "source": [
    "x=torch.ones(2,3)\n",
    "x"
   ]
  },
  {
   "cell_type": "code",
   "execution_count": 3,
   "id": "0bc83103",
   "metadata": {},
   "outputs": [
    {
     "data": {
      "text/plain": [
       "torch.float16"
      ]
     },
     "execution_count": 3,
     "metadata": {},
     "output_type": "execute_result"
    }
   ],
   "source": [
    "x=torch.ones(1,5,dtype=torch.float16)\n",
    "x.dtype"
   ]
  },
  {
   "cell_type": "code",
   "execution_count": 4,
   "id": "8280ea56",
   "metadata": {},
   "outputs": [
    {
     "name": "stdout",
     "output_type": "stream",
     "text": [
      "torch.Size([1, 5])\n"
     ]
    }
   ],
   "source": [
    "print(x.size())"
   ]
  },
  {
   "cell_type": "code",
   "execution_count": 5,
   "id": "1e29764b",
   "metadata": {},
   "outputs": [
    {
     "data": {
      "text/plain": [
       "tensor([4, 5, 7])"
      ]
     },
     "execution_count": 5,
     "metadata": {},
     "output_type": "execute_result"
    }
   ],
   "source": [
    "x=torch.tensor([4,5,7])\n",
    "x"
   ]
  },
  {
   "cell_type": "code",
   "execution_count": 6,
   "id": "57f7a587",
   "metadata": {},
   "outputs": [
    {
     "name": "stdout",
     "output_type": "stream",
     "text": [
      "tensor([[0.2997, 0.9983, 0.6266],\n",
      "        [0.2943, 0.7800, 0.2693]])\n",
      "tensor([[0.3635, 0.5433, 0.3437],\n",
      "        [0.1286, 0.4229, 0.7195]])\n",
      "tensor([[0.6632, 1.5416, 0.9703],\n",
      "        [0.4229, 1.2029, 0.9888]]) tensor([[0.6632, 1.5416, 0.9703],\n",
      "        [0.4229, 1.2029, 0.9888]])\n",
      "tensor([[0.6632, 1.5416, 0.9703],\n",
      "        [0.4229, 1.2029, 0.9888]])\n"
     ]
    }
   ],
   "source": [
    "x=torch.rand(2,3)\n",
    "print(x)\n",
    "y=torch.rand(2,3)\n",
    "print(y)\n",
    "print(x+y,torch.add(x,y))\n",
    "print(y.add_(x))"
   ]
  },
  {
   "cell_type": "code",
   "execution_count": 7,
   "id": "14be6c16",
   "metadata": {},
   "outputs": [
    {
     "name": "stdout",
     "output_type": "stream",
     "text": [
      "tensor([[0.6452, 0.3740, 0.2173],\n",
      "        [0.0701, 0.5952, 0.8114]])\n",
      "tensor([[0.3678, 0.8866, 0.9415],\n",
      "        [0.3412, 0.3580, 0.0404]])\n",
      "tensor([[ 0.2774, -0.5126, -0.7241],\n",
      "        [-0.2711,  0.2371,  0.7710]]) tensor([[ 0.2774, -0.5126, -0.7241],\n",
      "        [-0.2711,  0.2371,  0.7710]])\n"
     ]
    }
   ],
   "source": [
    "x=torch.rand(2,3)\n",
    "print(x)\n",
    "y=torch.rand(2,3)\n",
    "print(y)\n",
    "print(x-y,torch.sub(x,y))"
   ]
  },
  {
   "cell_type": "code",
   "execution_count": 8,
   "id": "fd76bdc3",
   "metadata": {},
   "outputs": [
    {
     "name": "stdout",
     "output_type": "stream",
     "text": [
      "tensor([[0.2373, 0.3316, 0.2046],\n",
      "        [0.0239, 0.2131, 0.0328]]) tensor([[0.2373, 0.3316, 0.2046],\n",
      "        [0.0239, 0.2131, 0.0328]])\n",
      "tensor([[ 1.7543,  0.4219,  0.2308],\n",
      "        [ 0.2053,  1.6624, 20.0902]]) tensor([[ 1.7543,  0.4219,  0.2308],\n",
      "        [ 0.2053,  1.6624, 20.0902]])\n",
      "tensor([[0.4163, 0.1399, 0.0472],\n",
      "        [0.0049, 0.3543, 0.6584]])\n"
     ]
    }
   ],
   "source": [
    "print(x*y,torch.mul(x,y))\n",
    "print(x/y,torch.div(x,y))\n",
    "print(x**2)"
   ]
  },
  {
   "cell_type": "code",
   "execution_count": 9,
   "id": "33386504",
   "metadata": {},
   "outputs": [
    {
     "name": "stdout",
     "output_type": "stream",
     "text": [
      "tensor([[ 0.3121, -0.7938,  0.5260],\n",
      "        [-1.0616,  0.4407, -1.2712],\n",
      "        [-0.1103, -0.3944, -0.7898],\n",
      "        [-0.1115, -0.0278,  1.2004],\n",
      "        [ 0.2588, -0.0580,  0.9185]])\n",
      "tensor([ 0.3121, -1.0616, -0.1103, -0.1115,  0.2588])\n",
      "tensor(0.4407) 0.44074031710624695\n"
     ]
    }
   ],
   "source": [
    "x=torch.randn(5,3)\n",
    "print(x)\n",
    "print(x[:,0])\n",
    "print(x[1,1] ,x[1,1].item())"
   ]
  },
  {
   "cell_type": "code",
   "execution_count": 10,
   "id": "f1abf495",
   "metadata": {},
   "outputs": [
    {
     "name": "stdout",
     "output_type": "stream",
     "text": [
      "tensor([[ 1.3866, -0.4928, -0.4038, -0.4529],\n",
      "        [ 0.2969, -0.2228,  0.6436, -0.5191],\n",
      "        [-1.4797,  1.4742, -0.2612, -2.7227],\n",
      "        [-1.7519, -1.1681,  0.3814,  0.2917]])\n",
      "tensor([ 1.3866, -0.4928, -0.4038, -0.4529,  0.2969, -0.2228,  0.6436, -0.5191,\n",
      "        -1.4797,  1.4742, -0.2612, -2.7227, -1.7519, -1.1681,  0.3814,  0.2917])\n",
      "tensor([[ 1.3866, -0.4928, -0.4038, -0.4529,  0.2969, -0.2228,  0.6436, -0.5191],\n",
      "        [-1.4797,  1.4742, -0.2612, -2.7227, -1.7519, -1.1681,  0.3814,  0.2917]])\n"
     ]
    }
   ],
   "source": [
    "x=torch.randn(4,4)\n",
    "print(x)\n",
    "y=x.view(16)\n",
    "print(y)\n",
    "y=x.view(-1,8)\n",
    "print(y)"
   ]
  },
  {
   "cell_type": "code",
   "execution_count": 11,
   "id": "d89cc73d",
   "metadata": {},
   "outputs": [
    {
     "name": "stdout",
     "output_type": "stream",
     "text": [
      "[1. 1. 1. 1. 1.]\n",
      "tensor([2., 2., 2., 2., 2.]) [2. 2. 2. 2. 2.]\n"
     ]
    }
   ],
   "source": [
    "a=torch.ones(5)\n",
    "b=a.numpy()\n",
    "print(b)\n",
    "a.add_(1)\n",
    "print(a,b)# in cpu they point to same memory location"
   ]
  },
  {
   "cell_type": "code",
   "execution_count": 12,
   "id": "74516378",
   "metadata": {},
   "outputs": [
    {
     "name": "stdout",
     "output_type": "stream",
     "text": [
      "[1. 1. 1. 1. 1. 1.] tensor([1., 1., 1., 1., 1., 1.], dtype=torch.float64)\n",
      "[2. 2. 2. 2. 2. 2.] tensor([2., 2., 2., 2., 2., 2.], dtype=torch.float64)\n"
     ]
    }
   ],
   "source": [
    "a=np.ones(6)\n",
    "b=torch.from_numpy(a)\n",
    "print(a,b)\n",
    "a+=1\n",
    "print(a,b)"
   ]
  },
  {
   "cell_type": "code",
   "execution_count": 13,
   "id": "49c1d22f",
   "metadata": {},
   "outputs": [
    {
     "name": "stdout",
     "output_type": "stream",
     "text": [
      "tensor([2., 2., 2., 2., 2.], device='cuda:0')\n",
      "[2. 2. 2. 2. 2.]\n"
     ]
    }
   ],
   "source": [
    "if torch.cuda.is_available():\n",
    "    device=torch.device(\"cuda\")\n",
    "    x=torch.ones(5,device=device)\n",
    "    y=torch.ones(5)\n",
    "    y=y.to(device)\n",
    "    z=x+y\n",
    "    print(z)\n",
    "    z=z.to('cpu')\n",
    "    print(z.numpy())"
   ]
  },
  {
   "cell_type": "code",
   "execution_count": 14,
   "id": "16f05b91",
   "metadata": {},
   "outputs": [
    {
     "name": "stdout",
     "output_type": "stream",
     "text": [
      "tensor([1., 1., 1., 1., 1.], requires_grad=True)\n"
     ]
    }
   ],
   "source": [
    "x=torch.ones(5,requires_grad=True)\n",
    "print(x)"
   ]
  },
  {
   "cell_type": "markdown",
   "id": "cffc5971",
   "metadata": {},
   "source": [
    "## autograd"
   ]
  },
  {
   "cell_type": "code",
   "execution_count": 15,
   "id": "db40464c",
   "metadata": {},
   "outputs": [
    {
     "name": "stdout",
     "output_type": "stream",
     "text": [
      "tensor([ 0.9377, -0.3848,  0.4614], requires_grad=True)\n"
     ]
    }
   ],
   "source": [
    "x=torch.randn(3,requires_grad=True)\n",
    "print(x)"
   ]
  },
  {
   "cell_type": "code",
   "execution_count": 16,
   "id": "aeb6dfcd",
   "metadata": {},
   "outputs": [
    {
     "name": "stdout",
     "output_type": "stream",
     "text": [
      "tensor([2.9377, 1.6152, 2.4614], grad_fn=<AddBackward0>)\n",
      "tensor(11.5315, grad_fn=<MeanBackward0>)\n",
      "tensor([3.9169, 2.1536, 3.2819])\n"
     ]
    }
   ],
   "source": [
    "y=x+2\n",
    "print(y)\n",
    "z=y*y*2\n",
    "z=z.mean()\n",
    "print(z)\n",
    "z.backward()\n",
    "print(x.grad)"
   ]
  },
  {
   "cell_type": "code",
   "execution_count": 17,
   "id": "f89375d7",
   "metadata": {},
   "outputs": [
    {
     "name": "stdout",
     "output_type": "stream",
     "text": [
      "tensor([2.9377, 1.6152, 2.4614], grad_fn=<AddBackward0>)\n",
      "tensor([17.2600,  5.2177, 12.1170], grad_fn=<MulBackward0>)\n",
      "tensor([ 5.0920,  8.6144, 32.8187])\n"
     ]
    }
   ],
   "source": [
    "y=x+2\n",
    "print(y)\n",
    "z=y*y*2\n",
    "# z=z.mean()\n",
    "print(z)\n",
    "v=torch.tensor([0.1,1.0,3.0])\n",
    "z.backward(v)\n",
    "print(x.grad)"
   ]
  },
  {
   "cell_type": "code",
   "execution_count": 18,
   "id": "a8340c2b",
   "metadata": {},
   "outputs": [
    {
     "name": "stdout",
     "output_type": "stream",
     "text": [
      "tensor([ 0.9377, -0.3848,  0.4614])\n",
      "tensor([-0.4829, -0.1813, -0.3706], requires_grad=True)\n",
      "tensor([-0.4829, -0.1813, -0.3706])\n",
      "tensor([-0.6462, -1.7096, -0.2163], requires_grad=True)\n",
      "tensor([1.3538, 0.2904, 1.7837])\n"
     ]
    }
   ],
   "source": [
    "# x.requires_grad_(False)\n",
    "# x.detach_()\n",
    "# with torch.no_grad()\n",
    "x.requires_grad_(False)\n",
    "print(x)\n",
    "x=torch.randn(3,requires_grad=True)\n",
    "print(x)\n",
    "x.detach_()\n",
    "print(x)\n",
    "x=torch.randn(3,requires_grad=True)\n",
    "print(x)\n",
    "with torch.no_grad():\n",
    "    y=x+2\n",
    "    print(y)"
   ]
  },
  {
   "cell_type": "code",
   "execution_count": 19,
   "id": "22665085",
   "metadata": {},
   "outputs": [
    {
     "name": "stdout",
     "output_type": "stream",
     "text": [
      "tensor([6., 6., 6., 6.])\n",
      "tensor([6., 6., 6., 6.])\n",
      "tensor([6., 6., 6., 6.])\n",
      "tensor([6., 6., 6., 6.])\n",
      "tensor([6., 6., 6., 6.])\n"
     ]
    }
   ],
   "source": [
    "w=torch.ones(4,requires_grad=True)\n",
    "for epoch in range(5):\n",
    "    out=(3*w**2).sum()\n",
    "    out.backward()\n",
    "    print(w.grad)\n",
    "    w.grad.zero_()"
   ]
  },
  {
   "cell_type": "markdown",
   "id": "cfaa3f5e",
   "metadata": {},
   "source": [
    "## Backpropagation"
   ]
  },
  {
   "cell_type": "code",
   "execution_count": 20,
   "id": "1f3dfc64",
   "metadata": {},
   "outputs": [
    {
     "name": "stdout",
     "output_type": "stream",
     "text": [
      "tensor(-2.)\n"
     ]
    }
   ],
   "source": [
    "x=torch.tensor(1.0)\n",
    "y=torch.tensor(2.0)\n",
    "w=torch.tensor(1.0,requires_grad=True)\n",
    "yhat=w*x\n",
    "loss=(yhat-y)**2\n",
    "loss.backward()\n",
    "print(w.grad)"
   ]
  },
  {
   "cell_type": "markdown",
   "id": "0f25a59c",
   "metadata": {},
   "source": [
    "## Linear Regression "
   ]
  },
  {
   "cell_type": "code",
   "execution_count": 21,
   "id": "de2c7d3b",
   "metadata": {},
   "outputs": [
    {
     "name": "stdout",
     "output_type": "stream",
     "text": [
      "epoch=4,weight= 0.6599999666213989, loss=44.0\n",
      "epoch=4,weight= 1.9755738973617554, loss=0.0146201076\n",
      "epoch=4,weight= 1.9995547533035278, loss=4.857934073e-06\n",
      "epoch=4,weight= 1.9999918937683105, loss=1.593471688e-09\n",
      "epoch=4,weight= 1.9999998807907104, loss=6.025402616e-13\n",
      "epoch=4,weight= 1.9999998807907104, loss=2.870592761e-13\n",
      "epoch=4,weight= 1.9999998807907104, loss=2.870592761e-13\n",
      "epoch=4,weight= 1.9999998807907104, loss=2.870592761e-13\n",
      "epoch=4,weight= 1.9999998807907104, loss=2.870592761e-13\n",
      "epoch=4,weight= 1.9999998807907104, loss=2.870592761e-13\n"
     ]
    }
   ],
   "source": [
    "x=torch.tensor([1,2,3,4,5],dtype=torch.float32)\n",
    "y=torch.tensor([2,4,6,8,10],dtype=torch.float32)\n",
    "alpha=0.015\n",
    "w=torch.tensor(0,dtype=torch.float32,requires_grad=True)\n",
    "def forward(x,w):\n",
    "    return w*x\n",
    "def loss(y_pred,y):\n",
    "    return ((y_pred-y)**2).mean()\n",
    "for e in range(100):\n",
    "    y_pred=forward(x,w)\n",
    "    l=loss(y,y_pred)\n",
    "    l.backward()\n",
    "    with torch.no_grad():\n",
    "        w-=alpha*w.grad\n",
    "    w.grad.zero_()\n",
    "    if e%10==0:\n",
    "        print(f\"epoch={epoch},weight= {w}, loss={l:0.10}\")"
   ]
  },
  {
   "cell_type": "code",
   "execution_count": 22,
   "id": "0103d02c",
   "metadata": {},
   "outputs": [
    {
     "name": "stdout",
     "output_type": "stream",
     "text": [
      "epoch=0,weight= 0.6599999666213989, loss=44.0\n",
      "epoch=10,weight= 1.9755738973617554, loss=0.0146201076\n",
      "epoch=20,weight= 1.9995547533035278, loss=4.857934073e-06\n",
      "epoch=30,weight= 1.9999918937683105, loss=1.593471688e-09\n",
      "epoch=40,weight= 1.9999998807907104, loss=6.025402616e-13\n",
      "epoch=50,weight= 1.9999998807907104, loss=2.870592761e-13\n",
      "epoch=60,weight= 1.9999998807907104, loss=2.870592761e-13\n",
      "epoch=70,weight= 1.9999998807907104, loss=2.870592761e-13\n",
      "epoch=80,weight= 1.9999998807907104, loss=2.870592761e-13\n",
      "epoch=90,weight= 1.9999998807907104, loss=2.870592761e-13\n"
     ]
    }
   ],
   "source": [
    "import torch.nn as nn\n",
    "x=torch.tensor([1,2,3,4,5],dtype=torch.float32)\n",
    "y=torch.tensor([2,4,6,8,10],dtype=torch.float32)\n",
    "alpha=0.015\n",
    "n=100\n",
    "w=torch.tensor(0,dtype=torch.float32,requires_grad=True)\n",
    "def forward(x,w):\n",
    "    return w*x\n",
    "loss=nn.MSELoss()\n",
    "optimizer=torch.optim.SGD([w],lr=alpha)\n",
    "for e in range(100):\n",
    "    y_pred=forward(x,w)\n",
    "    l=loss(y,y_pred)\n",
    "    l.backward()\n",
    "    optimizer.step()\n",
    "    optimizer.zero_grad()\n",
    "    if e%10==0:\n",
    "        print(f\"epoch={e},weight= {w}, loss={l:0.10}\")"
   ]
  },
  {
   "cell_type": "code",
   "execution_count": 23,
   "id": "938daea2",
   "metadata": {},
   "outputs": [
    {
     "name": "stdout",
     "output_type": "stream",
     "text": [
      "epoch=0,weight= -0.341880202293396,bias=-0.23705673217773438 loss=2.870592761e-13\n",
      "epoch=10,weight= 1.9573113918304443,bias=-0.23705673217773438 loss=0.04465475678\n",
      "epoch=20,weight= 1.999221920967102,bias=-0.23705673217773438 loss=1.483595861e-05\n",
      "epoch=30,weight= 1.999985933303833,bias=-0.23705673217773438 loss=4.915469365e-09\n",
      "epoch=40,weight= 1.999999761581421,bias=-0.23705673217773438 loss=1.446665053e-12\n",
      "epoch=50,weight= 1.9999998807907104,bias=-0.23705673217773438 loss=2.870592761e-13\n",
      "epoch=60,weight= 1.9999998807907104,bias=-0.23705673217773438 loss=2.870592761e-13\n",
      "epoch=70,weight= 1.9999998807907104,bias=-0.23705673217773438 loss=2.870592761e-13\n",
      "epoch=80,weight= 1.9999998807907104,bias=-0.23705673217773438 loss=2.870592761e-13\n",
      "epoch=90,weight= 1.9999998807907104,bias=-0.23705673217773438 loss=2.870592761e-13\n"
     ]
    },
    {
     "name": "stderr",
     "output_type": "stream",
     "text": [
      "/home/himanshu/anaconda3/lib/python3.7/site-packages/torch/nn/modules/loss.py:528: UserWarning: Using a target size (torch.Size([1, 5])) that is different to the input size (torch.Size([5])). This will likely lead to incorrect results due to broadcasting. Please ensure they have the same size.\n",
      "  return F.mse_loss(input, target, reduction=self.reduction)\n"
     ]
    }
   ],
   "source": [
    "import torch.nn as nn\n",
    "x=torch.tensor([1,2,3,4,5],dtype=torch.float32)\n",
    "y=torch.tensor([2,4,6,8,10],dtype=torch.float32)\n",
    "alpha=0.015\n",
    "n=100\n",
    "x_test=torch.tensor([5],dtype=torch.float32)\n",
    "# w=torch.tensor(0,dtype=torch.float32,requires_grad=True)\n",
    "# def forward(x,w):\n",
    "#     return w*x\n",
    "model=nn.Linear(1,1,bias=True)\n",
    "loss=nn.MSELoss()\n",
    "optimizer=torch.optim.SGD(model.parameters(),lr=alpha)\n",
    "for e in range(100):\n",
    "    y_pred=forward(x,w)\n",
    "    l=loss(y,y_pred)\n",
    "    l.backward()\n",
    "    optimizer.step()\n",
    "    optimizer.zero_grad()\n",
    "    if e%10==0:\n",
    "        [w,b]=model.parameters()\n",
    "        print(f\"epoch={e},weight= {w[0].item()},bias={b[0].item()} loss={l:0.10}\")"
   ]
  },
  {
   "cell_type": "code",
   "execution_count": 24,
   "id": "06df8899",
   "metadata": {},
   "outputs": [
    {
     "name": "stdout",
     "output_type": "stream",
     "text": [
      "epoch=0,weight= 0.4270576238632202,bias=0.3571218252182007 loss=2.870592761e-13\n",
      "epoch=10,weight= 1.971327781677246,bias=0.3571218252182007 loss=0.02014495432\n",
      "epoch=20,weight= 1.9994773864746094,bias=0.3571218252182007 loss=6.691496765e-06\n",
      "epoch=30,weight= 1.999990463256836,bias=0.3571218252182007 loss=2.201491656e-09\n",
      "epoch=40,weight= 1.9999998807907104,bias=0.3571218252182007 loss=6.025402616e-13\n",
      "epoch=50,weight= 1.9999998807907104,bias=0.3571218252182007 loss=2.870592761e-13\n",
      "epoch=60,weight= 1.9999998807907104,bias=0.3571218252182007 loss=2.870592761e-13\n",
      "epoch=70,weight= 1.9999998807907104,bias=0.3571218252182007 loss=2.870592761e-13\n",
      "epoch=80,weight= 1.9999998807907104,bias=0.3571218252182007 loss=2.870592761e-13\n",
      "epoch=90,weight= 1.9999998807907104,bias=0.3571218252182007 loss=2.870592761e-13\n"
     ]
    }
   ],
   "source": [
    "class Linear_regression(nn.Module):\n",
    "    def __init__(self,input_dim,output_dim):\n",
    "        super(Linear_regression,self).__init__()\n",
    "        self.lin=nn.Linear(input_dim,output_dim,bias=True)\n",
    "    def forward(self,x):\n",
    "        return self.lin(x)\n",
    "import torch.nn as nn\n",
    "x=torch.tensor([1,2,3,4,5],dtype=torch.float32)\n",
    "y=torch.tensor([2,4,6,8,10],dtype=torch.float32)\n",
    "alpha=0.015\n",
    "n=100\n",
    "x_test=torch.tensor([5],dtype=torch.float32)\n",
    "# w=torch.tensor(0,dtype=torch.float32,requires_grad=True)\n",
    "# def forward(x,w):\n",
    "#     return w*x\n",
    "model=Linear_regression(1,1)\n",
    "loss=nn.MSELoss()\n",
    "optimizer=torch.optim.SGD(model.parameters(),lr=alpha)\n",
    "for e in range(100):\n",
    "    y_pred=forward(x,w)\n",
    "    l=loss(y,y_pred)\n",
    "    l.backward()\n",
    "    optimizer.step()\n",
    "    optimizer.zero_grad()\n",
    "    if e%10==0:\n",
    "        [w,b]=model.parameters()\n",
    "        print(f\"epoch={e},weight= {w[0].item()},bias={b[0].item()} loss={l:0.10}\")"
   ]
  },
  {
   "cell_type": "code",
   "execution_count": 25,
   "id": "2db85a44",
   "metadata": {},
   "outputs": [
    {
     "data": {
      "text/plain": [
       "True"
      ]
     },
     "execution_count": 25,
     "metadata": {},
     "output_type": "execute_result"
    }
   ],
   "source": [
    "torch.cuda.is_available()"
   ]
  },
  {
   "cell_type": "code",
   "execution_count": 45,
   "id": "bb0ea75f",
   "metadata": {},
   "outputs": [
    {
     "name": "stdout",
     "output_type": "stream",
     "text": [
      "epoch=0 loss=5726.042,weights=1.549 bias=-0.507\n",
      "epoch=100 loss=554.632,weights=65.913 bias=5.105\n",
      "epoch=200 loss=342.176,weights=79.051 bias=4.535\n",
      "epoch=300 loss=332.992,weights=81.768 bias=4.189\n",
      "epoch=400 loss=332.586,weights=82.334 bias=4.087\n",
      "epoch=500 loss=332.568,weights=82.453 bias=4.061\n",
      "epoch=600 loss=332.568,weights=82.478 bias=4.056\n",
      "epoch=700 loss=332.568,weights=82.483 bias=4.054\n",
      "epoch=800 loss=332.568,weights=82.484 bias=4.054\n",
      "epoch=900 loss=332.568,weights=82.484 bias=4.054\n"
     ]
    },
    {
     "data": {
      "text/plain": [
       "[<matplotlib.lines.Line2D at 0x7f4d70b4cb50>]"
      ]
     },
     "execution_count": 45,
     "metadata": {},
     "output_type": "execute_result"
    },
    {
     "data": {
      "image/png": "[encoded data removed]",
      "text/plain": [
       "<Figure size 432x288 with 1 Axes>"
      ]
     },
     "metadata": {
      "needs_background": "light"
     },
     "output_type": "display_data"
    }
   ],
   "source": [
    "from sklearn import datasets\n",
    "x_np,y_np=datasets.make_regression(n_samples=100,n_features=1,noise=20,random_state=1)\n",
    "x=torch.from_numpy(x_np.astype(np.float32))\n",
    "y=torch.from_numpy(y_np.astype(np.float32))\n",
    "y=y.view(y.shape[0],1)\n",
    "n_sample,n_feature= x.shape\n",
    "input_size=n_feature\n",
    "output_size=1\n",
    "model=nn.Linear(input_size,output_size,bias=True)\n",
    "learing_rate=0.01\n",
    "criterion=nn.MSELoss()\n",
    "optimizer=torch.optim.SGD(model.parameters(),lr=learing_rate)\n",
    "for e in range(1000):\n",
    "    y_pred=model(x)\n",
    "    loss=criterion(y_pred,y)\n",
    "    loss.backward()\n",
    "    optimizer.step()\n",
    "    optimizer.zero_grad()\n",
    "    if e%100==0:\n",
    "        [w,b]=model.parameters()\n",
    "        print(f\"epoch={e} loss={loss:0.3f},weights={w[0].item():0.3f} bias={b[0].item():0.3f}\")\n",
    "plt.plot(x_np,y_np,'rd')\n",
    "predicted=model(x).detach().numpy()\n",
    "plt.plot(x_np,predicted,'b')"
   ]
  },
  {
   "cell_type": "code",
   "execution_count": null,
   "id": "d4993fc4",
   "metadata": {},
   "outputs": [],
   "source": []
  }
 ],
 "metadata": {
  "kernelspec": {
   "display_name": "Python 3",
   "language": "python",
   "name": "python3"
  },
  "language_info": {
   "codemirror_mode": {
    "name": "ipython",
    "version": 3
   },
   "file_extension": ".py",
   "mimetype": "text/x-python",
   "name": "python",
   "nbconvert_exporter": "python",
   "pygments_lexer": "ipython3",
   "version": "3.7.10"
  }
 },
 "nbformat": 4,
 "nbformat_minor": 5
}
