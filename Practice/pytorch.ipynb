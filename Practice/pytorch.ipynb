{
 "cells": [
  {
   "cell_type": "markdown",
   "id": "b9b20cce",
   "metadata": {},
   "source": [
    "## Tensors"
   ]
  },
  {
   "cell_type": "code",
   "execution_count": 11,
   "id": "468dd054",
   "metadata": {
    "ExecuteTime": {
     "end_time": "2021-06-20T17:07:31.525484Z",
     "start_time": "2021-06-20T17:07:31.521448Z"
    }
   },
   "outputs": [],
   "source": [
    "import torch\n",
    "import numpy as np\n",
    "import matplotlib.pyplot as plt"
   ]
  },
  {
   "cell_type": "code",
   "execution_count": 12,
   "id": "03c62aae",
   "metadata": {
    "ExecuteTime": {
     "end_time": "2021-06-20T17:07:32.386499Z",
     "start_time": "2021-06-20T17:07:32.380791Z"
    }
   },
   "outputs": [
    {
     "data": {
      "text/plain": [
       "tensor([[1., 1., 1.],\n",
       "        [1., 1., 1.]])"
      ]
     },
     "execution_count": 12,
     "metadata": {},
     "output_type": "execute_result"
    }
   ],
   "source": [
    "x = torch.ones(2, 3)\n",
    "x"
   ]
  },
  {
   "cell_type": "code",
   "execution_count": 13,
   "id": "0bc83103",
   "metadata": {
    "ExecuteTime": {
     "end_time": "2021-06-20T17:07:33.260193Z",
     "start_time": "2021-06-20T17:07:33.255195Z"
    }
   },
   "outputs": [
    {
     "data": {
      "text/plain": [
       "torch.float16"
      ]
     },
     "execution_count": 13,
     "metadata": {},
     "output_type": "execute_result"
    }
   ],
   "source": [
    "x = torch.ones(1, 5, dtype=torch.float16)\n",
    "x.dtype"
   ]
  },
  {
   "cell_type": "code",
   "execution_count": 14,
   "id": "8280ea56",
   "metadata": {
    "ExecuteTime": {
     "end_time": "2021-06-20T17:07:34.158288Z",
     "start_time": "2021-06-20T17:07:34.154018Z"
    }
   },
   "outputs": [
    {
     "name": "stdout",
     "output_type": "stream",
     "text": [
      "torch.Size([1, 5])\n"
     ]
    }
   ],
   "source": [
    "print(x.size())"
   ]
  },
  {
   "cell_type": "code",
   "execution_count": 15,
   "id": "1e29764b",
   "metadata": {
    "ExecuteTime": {
     "end_time": "2021-06-20T17:07:35.016703Z",
     "start_time": "2021-06-20T17:07:35.011971Z"
    }
   },
   "outputs": [
    {
     "data": {
      "text/plain": [
       "tensor([4, 5, 7])"
      ]
     },
     "execution_count": 15,
     "metadata": {},
     "output_type": "execute_result"
    }
   ],
   "source": [
    "x = torch.tensor([4, 5, 7])\n",
    "x"
   ]
  },
  {
   "cell_type": "code",
   "execution_count": 16,
   "id": "57f7a587",
   "metadata": {
    "ExecuteTime": {
     "end_time": "2021-06-20T17:07:35.865007Z",
     "start_time": "2021-06-20T17:07:35.856885Z"
    }
   },
   "outputs": [
    {
     "name": "stdout",
     "output_type": "stream",
     "text": [
      "tensor([[0.1500, 0.2900, 0.6668],\n",
      "        [0.0124, 0.4886, 0.5515]])\n",
      "tensor([[0.8988, 0.9216, 0.7543],\n",
      "        [0.1800, 0.5743, 0.7664]])\n",
      "tensor([[1.0488, 1.2116, 1.4211],\n",
      "        [0.1924, 1.0630, 1.3180]]) tensor([[1.0488, 1.2116, 1.4211],\n",
      "        [0.1924, 1.0630, 1.3180]])\n",
      "tensor([[1.0488, 1.2116, 1.4211],\n",
      "        [0.1924, 1.0630, 1.3180]])\n"
     ]
    }
   ],
   "source": [
    "x = torch.rand(2, 3)\n",
    "print(x)\n",
    "y = torch.rand(2, 3)\n",
    "print(y)\n",
    "print(x + y, torch.add(x, y))\n",
    "print(y.add_(x))"
   ]
  },
  {
   "cell_type": "code",
   "execution_count": 17,
   "id": "14be6c16",
   "metadata": {
    "ExecuteTime": {
     "end_time": "2021-06-20T17:07:36.735519Z",
     "start_time": "2021-06-20T17:07:36.725708Z"
    }
   },
   "outputs": [
    {
     "name": "stdout",
     "output_type": "stream",
     "text": [
      "tensor([[0.6195, 0.7391, 0.3101],\n",
      "        [0.4686, 0.0838, 0.2808]])\n",
      "tensor([[0.5470, 0.5994, 0.7281],\n",
      "        [0.7816, 0.6036, 0.8533]])\n",
      "tensor([[ 0.0725,  0.1397, -0.4181],\n",
      "        [-0.3129, -0.5198, -0.5724]]) tensor([[ 0.0725,  0.1397, -0.4181],\n",
      "        [-0.3129, -0.5198, -0.5724]])\n"
     ]
    }
   ],
   "source": [
    "x = torch.rand(2, 3)\n",
    "print(x)\n",
    "y = torch.rand(2, 3)\n",
    "print(y)\n",
    "print(x - y, torch.sub(x, y))"
   ]
  },
  {
   "cell_type": "code",
   "execution_count": 18,
   "id": "fd76bdc3",
   "metadata": {
    "ExecuteTime": {
     "end_time": "2021-06-20T17:07:37.571577Z",
     "start_time": "2021-06-20T17:07:37.551680Z"
    }
   },
   "outputs": [
    {
     "name": "stdout",
     "output_type": "stream",
     "text": [
      "tensor([[0.3388, 0.4431, 0.2258],\n",
      "        [0.3663, 0.0506, 0.2396]]) tensor([[0.3388, 0.4431, 0.2258],\n",
      "        [0.3663, 0.0506, 0.2396]])\n",
      "tensor([[1.1325, 1.2330, 0.4258],\n",
      "        [0.5996, 0.1388, 0.3291]]) tensor([[1.1325, 1.2330, 0.4258],\n",
      "        [0.5996, 0.1388, 0.3291]])\n",
      "tensor([[0.3837, 0.5463, 0.0961],\n",
      "        [0.2196, 0.0070, 0.0789]])\n"
     ]
    }
   ],
   "source": [
    "print(x * y, torch.mul(x, y))\n",
    "print(x / y, torch.div(x, y))\n",
    "print(x**2)"
   ]
  },
  {
   "cell_type": "code",
   "execution_count": 19,
   "id": "33386504",
   "metadata": {
    "ExecuteTime": {
     "end_time": "2021-06-20T17:07:38.070400Z",
     "start_time": "2021-06-20T17:07:38.061061Z"
    }
   },
   "outputs": [
    {
     "name": "stdout",
     "output_type": "stream",
     "text": [
      "tensor([[ 1.0488, -0.5108, -1.6076],\n",
      "        [-0.2734, -0.4665,  0.0186],\n",
      "        [ 0.3880,  0.1155, -0.4798],\n",
      "        [ 0.8619, -0.1219, -0.2592],\n",
      "        [ 1.5373,  1.5585,  0.5890]])\n",
      "tensor([ 1.0488, -0.2734,  0.3880,  0.8619,  1.5373])\n",
      "tensor(-0.4665) -0.466489315032959\n"
     ]
    }
   ],
   "source": [
    "x = torch.randn(5, 3)\n",
    "print(x)\n",
    "print(x[:, 0])\n",
    "print(x[1, 1], x[1, 1].item())"
   ]
  },
  {
   "cell_type": "code",
   "execution_count": 20,
   "id": "f1abf495",
   "metadata": {
    "ExecuteTime": {
     "end_time": "2021-06-20T17:07:38.551309Z",
     "start_time": "2021-06-20T17:07:38.473476Z"
    }
   },
   "outputs": [
    {
     "name": "stdout",
     "output_type": "stream",
     "text": [
      "tensor([[-0.9854,  0.8124, -0.3213,  0.7426],\n",
      "        [ 1.2739,  0.2001, -0.1885,  1.7861],\n",
      "        [ 0.3776,  0.7444, -1.4385, -0.3465],\n",
      "        [-0.2547, -0.7755,  1.4134,  0.1838]])\n",
      "tensor([-0.9854,  0.8124, -0.3213,  0.7426,  1.2739,  0.2001, -0.1885,  1.7861,\n",
      "         0.3776,  0.7444, -1.4385, -0.3465, -0.2547, -0.7755,  1.4134,  0.1838])\n",
      "tensor([[-0.9854,  0.8124, -0.3213,  0.7426,  1.2739,  0.2001, -0.1885,  1.7861],\n",
      "        [ 0.3776,  0.7444, -1.4385, -0.3465, -0.2547, -0.7755,  1.4134,  0.1838]])\n"
     ]
    }
   ],
   "source": [
    "x = torch.randn(4, 4)\n",
    "print(x)\n",
    "y = x.view(16)\n",
    "print(y)\n",
    "y = x.view(-1, 8)\n",
    "print(y)"
   ]
  },
  {
   "cell_type": "code",
   "execution_count": 21,
   "id": "d89cc73d",
   "metadata": {
    "ExecuteTime": {
     "end_time": "2021-06-20T17:07:38.875534Z",
     "start_time": "2021-06-20T17:07:38.850105Z"
    }
   },
   "outputs": [
    {
     "name": "stdout",
     "output_type": "stream",
     "text": [
      "[1. 1. 1. 1. 1.]\n",
      "tensor([2., 2., 2., 2., 2.]) [2. 2. 2. 2. 2.]\n"
     ]
    }
   ],
   "source": [
    "a = torch.ones(5)\n",
    "b = a.numpy()\n",
    "print(b)\n",
    "a.add_(1)\n",
    "print(a, b)  # in cpu they point to same memory location"
   ]
  },
  {
   "cell_type": "code",
   "execution_count": 22,
   "id": "74516378",
   "metadata": {
    "ExecuteTime": {
     "end_time": "2021-06-20T17:07:39.236829Z",
     "start_time": "2021-06-20T17:07:39.228743Z"
    }
   },
   "outputs": [
    {
     "name": "stdout",
     "output_type": "stream",
     "text": [
      "[1. 1. 1. 1. 1. 1.] tensor([1., 1., 1., 1., 1., 1.], dtype=torch.float64)\n",
      "[2. 2. 2. 2. 2. 2.] tensor([2., 2., 2., 2., 2., 2.], dtype=torch.float64)\n"
     ]
    }
   ],
   "source": [
    "a = np.ones(6)\n",
    "b = torch.from_numpy(a)\n",
    "print(a, b)\n",
    "a += 1\n",
    "print(a, b)"
   ]
  },
  {
   "cell_type": "code",
   "execution_count": 23,
   "id": "49c1d22f",
   "metadata": {
    "ExecuteTime": {
     "end_time": "2021-06-20T17:07:42.525445Z",
     "start_time": "2021-06-20T17:07:39.601336Z"
    }
   },
   "outputs": [],
   "source": [
    "if torch.cuda.is_available():\n",
    "    device = torch.device(\"cuda\")\n",
    "    x = torch.ones(5, device=device)\n",
    "    y = torch.ones(5)\n",
    "    y = y.to(device)\n",
    "    z = x + y\n",
    "    print(z)\n",
    "    z = z.to('cpu')\n",
    "    print(z.numpy())"
   ]
  },
  {
   "cell_type": "code",
   "execution_count": 24,
   "id": "16f05b91",
   "metadata": {
    "ExecuteTime": {
     "end_time": "2021-06-20T17:07:42.746860Z",
     "start_time": "2021-06-20T17:07:42.544309Z"
    }
   },
   "outputs": [
    {
     "name": "stdout",
     "output_type": "stream",
     "text": [
      "tensor([1., 1., 1., 1., 1.], requires_grad=True)\n"
     ]
    }
   ],
   "source": [
    "x = torch.ones(5, requires_grad=True)\n",
    "print(x)"
   ]
  },
  {
   "cell_type": "markdown",
   "id": "cffc5971",
   "metadata": {},
   "source": [
    "## autograd"
   ]
  },
  {
   "cell_type": "code",
   "execution_count": 25,
   "id": "db40464c",
   "metadata": {
    "ExecuteTime": {
     "end_time": "2021-06-20T17:07:42.891398Z",
     "start_time": "2021-06-20T17:07:42.769483Z"
    }
   },
   "outputs": [
    {
     "name": "stdout",
     "output_type": "stream",
     "text": [
      "tensor([ 2.2368,  0.3076, -0.9402], requires_grad=True)\n"
     ]
    }
   ],
   "source": [
    "x = torch.randn(3, requires_grad=True)\n",
    "print(x)"
   ]
  },
  {
   "cell_type": "code",
   "execution_count": 26,
   "id": "aeb6dfcd",
   "metadata": {
    "ExecuteTime": {
     "end_time": "2021-06-20T17:07:43.180875Z",
     "start_time": "2021-06-20T17:07:42.928599Z"
    }
   },
   "outputs": [
    {
     "name": "stdout",
     "output_type": "stream",
     "text": [
      "tensor([4.2368, 2.3076, 1.0598], grad_fn=<AddBackward0>)\n",
      "tensor(16.2657, grad_fn=<MeanBackward0>)\n",
      "tensor([5.6490, 3.0768, 1.4130])\n"
     ]
    }
   ],
   "source": [
    "y = x + 2\n",
    "print(y)\n",
    "z = y * y * 2\n",
    "z = z.mean()\n",
    "print(z)\n",
    "z.backward()\n",
    "print(x.grad)"
   ]
  },
  {
   "cell_type": "code",
   "execution_count": 27,
   "id": "f89375d7",
   "metadata": {
    "ExecuteTime": {
     "end_time": "2021-06-20T17:07:43.209350Z",
     "start_time": "2021-06-20T17:07:43.200866Z"
    }
   },
   "outputs": [
    {
     "name": "stdout",
     "output_type": "stream",
     "text": [
      "tensor([4.2368, 2.3076, 1.0598], grad_fn=<AddBackward0>)\n",
      "tensor([35.9007, 10.6501,  2.2461], grad_fn=<MulBackward0>)\n",
      "tensor([ 7.3438, 12.3073, 14.1300])\n"
     ]
    }
   ],
   "source": [
    "y = x + 2\n",
    "print(y)\n",
    "z = y * y * 2\n",
    "# z=z.mean()\n",
    "print(z)\n",
    "v = torch.tensor([0.1, 1.0, 3.0])\n",
    "z.backward(v)\n",
    "print(x.grad)"
   ]
  },
  {
   "cell_type": "code",
   "execution_count": 28,
   "id": "a8340c2b",
   "metadata": {
    "ExecuteTime": {
     "end_time": "2021-06-20T17:07:45.884001Z",
     "start_time": "2021-06-20T17:07:45.835042Z"
    }
   },
   "outputs": [
    {
     "name": "stdout",
     "output_type": "stream",
     "text": [
      "tensor([ 2.2368,  0.3076, -0.9402])\n",
      "tensor([-0.6079, -2.1915, -0.7412], requires_grad=True)\n",
      "tensor([-0.6079, -2.1915, -0.7412])\n",
      "tensor([ 1.2572,  0.7355, -1.6303], requires_grad=True)\n",
      "tensor([3.2572, 2.7355, 0.3697])\n"
     ]
    }
   ],
   "source": [
    "# x.requires_grad_(False)\n",
    "# x.detach_()\n",
    "# with torch.no_grad()\n",
    "x.requires_grad_(False)\n",
    "print(x)\n",
    "x = torch.randn(3, requires_grad=True)\n",
    "print(x)\n",
    "x.detach_()\n",
    "print(x)\n",
    "x = torch.randn(3, requires_grad=True)\n",
    "print(x)\n",
    "with torch.no_grad():\n",
    "    y = x + 2\n",
    "    print(y)"
   ]
  },
  {
   "cell_type": "code",
   "execution_count": 29,
   "id": "22665085",
   "metadata": {
    "ExecuteTime": {
     "end_time": "2021-06-20T17:07:46.726331Z",
     "start_time": "2021-06-20T17:07:46.715649Z"
    }
   },
   "outputs": [
    {
     "name": "stdout",
     "output_type": "stream",
     "text": [
      "tensor([6., 6., 6., 6.])\n",
      "tensor([6., 6., 6., 6.])\n",
      "tensor([6., 6., 6., 6.])\n",
      "tensor([6., 6., 6., 6.])\n",
      "tensor([6., 6., 6., 6.])\n"
     ]
    }
   ],
   "source": [
    "w = torch.ones(4, requires_grad=True)\n",
    "for epoch in range(5):\n",
    "    out = (3 * w**2).sum()\n",
    "    out.backward()\n",
    "    print(w.grad)\n",
    "    w.grad.zero_()"
   ]
  },
  {
   "cell_type": "markdown",
   "id": "cfaa3f5e",
   "metadata": {},
   "source": [
    "## Backpropagation"
   ]
  },
  {
   "cell_type": "code",
   "execution_count": 30,
   "id": "1f3dfc64",
   "metadata": {
    "ExecuteTime": {
     "end_time": "2021-06-20T17:07:50.044870Z",
     "start_time": "2021-06-20T17:07:50.036863Z"
    }
   },
   "outputs": [
    {
     "name": "stdout",
     "output_type": "stream",
     "text": [
      "tensor(-2.)\n"
     ]
    }
   ],
   "source": [
    "x = torch.tensor(1.0)\n",
    "y = torch.tensor(2.0)\n",
    "w = torch.tensor(1.0, requires_grad=True)\n",
    "yhat = w * x\n",
    "loss = (yhat - y)**2\n",
    "loss.backward()\n",
    "print(w.grad)"
   ]
  },
  {
   "cell_type": "markdown",
   "id": "0f25a59c",
   "metadata": {},
   "source": [
    "## Linear Regression "
   ]
  },
  {
   "cell_type": "code",
   "execution_count": 59,
   "id": "de2c7d3b",
   "metadata": {
    "ExecuteTime": {
     "end_time": "2021-06-20T16:23:32.135087Z",
     "start_time": "2021-06-20T16:23:31.988825Z"
    }
   },
   "outputs": [
    {
     "name": "stdout",
     "output_type": "stream",
     "text": [
      "epoch=4,weight= 0.6599999666213989, loss=44.0\n",
      "epoch=4,weight= 1.9755738973617554, loss=0.0146201076\n",
      "epoch=4,weight= 1.9995547533035278, loss=4.857934073e-06\n",
      "epoch=4,weight= 1.9999918937683105, loss=1.593471688e-09\n",
      "epoch=4,weight= 1.9999998807907104, loss=6.025402616e-13\n",
      "epoch=4,weight= 1.9999998807907104, loss=2.870592761e-13\n",
      "epoch=4,weight= 1.9999998807907104, loss=2.870592761e-13\n",
      "epoch=4,weight= 1.9999998807907104, loss=2.870592761e-13\n",
      "epoch=4,weight= 1.9999998807907104, loss=2.870592761e-13\n",
      "epoch=4,weight= 1.9999998807907104, loss=2.870592761e-13\n"
     ]
    }
   ],
   "source": [
    "x = torch.tensor([1, 2, 3, 4, 5], dtype=torch.float32)\n",
    "y = torch.tensor([2, 4, 6, 8, 10], dtype=torch.float32)\n",
    "alpha = 0.015\n",
    "w = torch.tensor(0, dtype=torch.float32, requires_grad=True)\n",
    "\n",
    "\n",
    "def forward(x, w):\n",
    "    return w * x\n",
    "\n",
    "\n",
    "def loss(y_pred, y):\n",
    "    return ((y_pred - y)**2).mean()\n",
    "\n",
    "\n",
    "for e in range(100):\n",
    "    y_pred = forward(x, w)\n",
    "    l = loss(y, y_pred)\n",
    "    l.backward()\n",
    "    with torch.no_grad():\n",
    "        w -= alpha * w.grad\n",
    "    w.grad.zero_()\n",
    "    if e % 10 == 0:\n",
    "        print(f\"epoch={epoch},weight= {w}, loss={l:0.10}\")"
   ]
  },
  {
   "cell_type": "code",
   "execution_count": 60,
   "id": "0103d02c",
   "metadata": {
    "ExecuteTime": {
     "end_time": "2021-06-20T16:23:32.432415Z",
     "start_time": "2021-06-20T16:23:32.181101Z"
    }
   },
   "outputs": [
    {
     "name": "stdout",
     "output_type": "stream",
     "text": [
      "epoch=0,weight= 0.6599999666213989, loss=44.0\n",
      "epoch=10,weight= 1.9755738973617554, loss=0.0146201076\n",
      "epoch=20,weight= 1.9995547533035278, loss=4.857934073e-06\n",
      "epoch=30,weight= 1.9999918937683105, loss=1.593471688e-09\n",
      "epoch=40,weight= 1.9999998807907104, loss=6.025402616e-13\n",
      "epoch=50,weight= 1.9999998807907104, loss=2.870592761e-13\n",
      "epoch=60,weight= 1.9999998807907104, loss=2.870592761e-13\n",
      "epoch=70,weight= 1.9999998807907104, loss=2.870592761e-13\n",
      "epoch=80,weight= 1.9999998807907104, loss=2.870592761e-13\n",
      "epoch=90,weight= 1.9999998807907104, loss=2.870592761e-13\n"
     ]
    }
   ],
   "source": [
    "import torch.nn as nn\n",
    "\n",
    "x = torch.tensor([1, 2, 3, 4, 5], dtype=torch.float32)\n",
    "y = torch.tensor([2, 4, 6, 8, 10], dtype=torch.float32)\n",
    "alpha = 0.015\n",
    "n = 100\n",
    "w = torch.tensor(0, dtype=torch.float32, requires_grad=True)\n",
    "\n",
    "\n",
    "def forward(x, w):\n",
    "    return w * x\n",
    "\n",
    "\n",
    "loss = nn.MSELoss()\n",
    "optimizer = torch.optim.SGD([w], lr=alpha)\n",
    "for e in range(100):\n",
    "    y_pred = forward(x, w)\n",
    "    l = loss(y, y_pred)\n",
    "    l.backward()\n",
    "    optimizer.step()\n",
    "    optimizer.zero_grad()\n",
    "    if e % 10 == 0:\n",
    "        print(f\"epoch={e},weight= {w}, loss={l:0.10}\")"
   ]
  },
  {
   "cell_type": "code",
   "execution_count": 61,
   "id": "938daea2",
   "metadata": {
    "ExecuteTime": {
     "end_time": "2021-06-20T16:23:32.679471Z",
     "start_time": "2021-06-20T16:23:32.451286Z"
    }
   },
   "outputs": [
    {
     "name": "stdout",
     "output_type": "stream",
     "text": [
      "epoch=0,weight= 0.6299275159835815,bias=0.242850661277771 loss=2.870592761e-13\n",
      "epoch=10,weight= 1.9750258922576904,bias=0.242850661277771 loss=0.01528358459\n",
      "epoch=20,weight= 1.9995447397232056,bias=0.242850661277771 loss=5.078169579e-06\n",
      "epoch=30,weight= 1.9999916553497314,bias=0.242850661277771 loss=1.690750651e-09\n",
      "epoch=40,weight= 1.9999998807907104,bias=0.242850661277771 loss=6.025402616e-13\n",
      "epoch=50,weight= 1.9999998807907104,bias=0.242850661277771 loss=2.870592761e-13\n",
      "epoch=60,weight= 1.9999998807907104,bias=0.242850661277771 loss=2.870592761e-13\n",
      "epoch=70,weight= 1.9999998807907104,bias=0.242850661277771 loss=2.870592761e-13\n",
      "epoch=80,weight= 1.9999998807907104,bias=0.242850661277771 loss=2.870592761e-13\n",
      "epoch=90,weight= 1.9999998807907104,bias=0.242850661277771 loss=2.870592761e-13\n"
     ]
    },
    {
     "name": "stderr",
     "output_type": "stream",
     "text": [
      "/home/himanshu/anaconda3/lib/python3.7/site-packages/torch/nn/modules/loss.py:528: UserWarning: Using a target size (torch.Size([1, 5])) that is different to the input size (torch.Size([5])). This will likely lead to incorrect results due to broadcasting. Please ensure they have the same size.\n",
      "  return F.mse_loss(input, target, reduction=self.reduction)\n"
     ]
    }
   ],
   "source": [
    "import torch.nn as nn\n",
    "\n",
    "x = torch.tensor([1, 2, 3, 4, 5], dtype=torch.float32)\n",
    "y = torch.tensor([2, 4, 6, 8, 10], dtype=torch.float32)\n",
    "alpha = 0.015\n",
    "n = 100\n",
    "x_test = torch.tensor([5], dtype=torch.float32)\n",
    "# w=torch.tensor(0,dtype=torch.float32,requires_grad=True)\n",
    "# def forward(x,w):\n",
    "#     return w*x\n",
    "model = nn.Linear(1, 1, bias=True)\n",
    "loss = nn.MSELoss()\n",
    "optimizer = torch.optim.SGD(model.parameters(), lr=alpha)\n",
    "for e in range(100):\n",
    "    y_pred = forward(x, w)\n",
    "    l = loss(y, y_pred)\n",
    "    l.backward()\n",
    "    optimizer.step()\n",
    "    optimizer.zero_grad()\n",
    "    if e % 10 == 0:\n",
    "        [w, b] = model.parameters()\n",
    "        print(\n",
    "            f\"epoch={e},weight= {w[0].item()},bias={b[0].item()} loss={l:0.10}\"\n",
    "        )"
   ]
  },
  {
   "cell_type": "code",
   "execution_count": 62,
   "id": "06df8899",
   "metadata": {
    "ExecuteTime": {
     "end_time": "2021-06-20T16:23:34.688831Z",
     "start_time": "2021-06-20T16:23:34.652931Z"
    }
   },
   "outputs": [
    {
     "name": "stdout",
     "output_type": "stream",
     "text": [
      "epoch=0,weight= 0.5351057052612305,bias=-0.05753052234649658 loss=2.870592761e-13\n",
      "epoch=10,weight= 1.973297357559204,bias=-0.05753052234649658 loss=0.01747231744\n",
      "epoch=20,weight= 1.9995132684707642,bias=-0.05753052234649658 loss=5.805346063e-06\n",
      "epoch=30,weight= 1.9999911785125732,bias=-0.05753052234649658 loss=1.914682413e-09\n",
      "epoch=40,weight= 1.9999998807907104,bias=-0.05753052234649658 loss=6.025402616e-13\n",
      "epoch=50,weight= 1.9999998807907104,bias=-0.05753052234649658 loss=2.870592761e-13\n",
      "epoch=60,weight= 1.9999998807907104,bias=-0.05753052234649658 loss=2.870592761e-13\n",
      "epoch=70,weight= 1.9999998807907104,bias=-0.05753052234649658 loss=2.870592761e-13\n",
      "epoch=80,weight= 1.9999998807907104,bias=-0.05753052234649658 loss=2.870592761e-13\n",
      "epoch=90,weight= 1.9999998807907104,bias=-0.05753052234649658 loss=2.870592761e-13\n"
     ]
    }
   ],
   "source": [
    "class Linear_regression(nn.Module):\n",
    "    def __init__(self, input_dim, output_dim):\n",
    "        super(Linear_regression, self).__init__()\n",
    "        self.lin = nn.Linear(input_dim, output_dim, bias=True)\n",
    "\n",
    "    def forward(self, x):\n",
    "        return self.lin(x)\n",
    "\n",
    "\n",
    "import torch.nn as nn\n",
    "\n",
    "x = torch.tensor([1, 2, 3, 4, 5], dtype=torch.float32)\n",
    "y = torch.tensor([2, 4, 6, 8, 10], dtype=torch.float32)\n",
    "alpha = 0.015\n",
    "n = 100\n",
    "x_test = torch.tensor([5], dtype=torch.float32)\n",
    "# w=torch.tensor(0,dtype=torch.float32,requires_grad=True)\n",
    "# def forward(x,w):\n",
    "#     return w*x\n",
    "model = Linear_regression(1, 1)\n",
    "loss = nn.MSELoss()\n",
    "optimizer = torch.optim.SGD(model.parameters(), lr=alpha)\n",
    "for e in range(100):\n",
    "    y_pred = forward(x, w)\n",
    "    l = loss(y, y_pred)\n",
    "    l.backward()\n",
    "    optimizer.step()\n",
    "    optimizer.zero_grad()\n",
    "    if e % 10 == 0:\n",
    "        [w, b] = model.parameters()\n",
    "        print(\n",
    "            f\"epoch={e},weight= {w[0].item()},bias={b[0].item()} loss={l:0.10}\"\n",
    "        )"
   ]
  },
  {
   "cell_type": "code",
   "execution_count": 63,
   "id": "2db85a44",
   "metadata": {
    "ExecuteTime": {
     "end_time": "2021-06-20T16:23:35.089222Z",
     "start_time": "2021-06-20T16:23:35.082357Z"
    }
   },
   "outputs": [
    {
     "data": {
      "text/plain": [
       "False"
      ]
     },
     "execution_count": 63,
     "metadata": {},
     "output_type": "execute_result"
    }
   ],
   "source": [
    "torch.cuda.is_available()"
   ]
  },
  {
   "cell_type": "code",
   "execution_count": 64,
   "id": "bb0ea75f",
   "metadata": {
    "ExecuteTime": {
     "end_time": "2021-06-20T16:23:37.641269Z",
     "start_time": "2021-06-20T16:23:35.379043Z"
    }
   },
   "outputs": [
    {
     "name": "stdout",
     "output_type": "stream",
     "text": [
      "epoch=0 loss=5845.977,weights=0.671 bias=-0.667\n",
      "epoch=100 loss=559.416,weights=65.735 bias=5.102\n",
      "epoch=200 loss=342.380,weights=79.014 bias=4.538\n",
      "epoch=300 loss=333.001,weights=81.760 bias=4.190\n",
      "epoch=400 loss=332.587,weights=82.333 bias=4.087\n",
      "epoch=500 loss=332.568,weights=82.453 bias=4.062\n",
      "epoch=600 loss=332.568,weights=82.478 bias=4.056\n",
      "epoch=700 loss=332.568,weights=82.483 bias=4.054\n",
      "epoch=800 loss=332.568,weights=82.484 bias=4.054\n",
      "epoch=900 loss=332.568,weights=82.484 bias=4.054\n"
     ]
    },
    {
     "data": {
      "text/plain": [
       "[<matplotlib.lines.Line2D at 0x7fe372014790>]"
      ]
     },
     "execution_count": 64,
     "metadata": {},
     "output_type": "execute_result"
    },
    {
     "data": {
      "image/png": "[encoded data removed]",
      "text/plain": [
       "<Figure size 432x288 with 1 Axes>"
      ]
     },
     "metadata": {
      "needs_background": "light"
     },
     "output_type": "display_data"
    }
   ],
   "source": [
    "from sklearn import datasets\n",
    "\n",
    "x_np, y_np = datasets.make_regression(n_samples=100,\n",
    "                                      n_features=1,\n",
    "                                      noise=20,\n",
    "                                      random_state=1)\n",
    "x = torch.from_numpy(x_np.astype(np.float32))\n",
    "y = torch.from_numpy(y_np.astype(np.float32))\n",
    "y = y.view(y.shape[0], 1)\n",
    "n_sample, n_feature = x.shape\n",
    "input_size = n_feature\n",
    "output_size = 1\n",
    "model = nn.Linear(input_size, output_size, bias=True)\n",
    "learing_rate = 0.01\n",
    "criterion = nn.MSELoss()\n",
    "optimizer = torch.optim.SGD(model.parameters(), lr=learing_rate)\n",
    "for e in range(1000):\n",
    "    y_pred = model(x)\n",
    "    loss = criterion(y_pred, y)\n",
    "    loss.backward()\n",
    "    optimizer.step()\n",
    "    optimizer.zero_grad()\n",
    "    if e % 100 == 0:\n",
    "        [w, b] = model.parameters()\n",
    "        print(\n",
    "            f\"epoch={e} loss={loss:0.3f},weights={w[0].item():0.3f} bias={b[0].item():0.3f}\"\n",
    "        )\n",
    "plt.plot(x_np, y_np, 'rd')\n",
    "predicted = model(x).detach().numpy()\n",
    "plt.plot(x_np, predicted, 'b')"
   ]
  },
  {
   "cell_type": "code",
   "execution_count": 65,
   "id": "d4993fc4",
   "metadata": {
    "ExecuteTime": {
     "end_time": "2021-06-20T16:23:37.698965Z",
     "start_time": "2021-06-20T16:23:37.693475Z"
    }
   },
   "outputs": [
    {
     "name": "stdout",
     "output_type": "stream",
     "text": [
      "8\n"
     ]
    }
   ],
   "source": [
    "x=2\n",
    "y=4\n",
    "x=2*y\n",
    "print(x)\n",
    "x+y=z\n",
    "x"
   ]
  }
 ],
 "metadata": {
  "gist": {
   "data": {
    "description": "Desktop/Deep-Into-CNN-1/Practice/pytorch.ipynb",
    "public": false
   },
   "id": ""
  },
  "kernelspec": {
   "display_name": "Python 3",
   "language": "python",
   "name": "python3"
  },
  "language_info": {
   "codemirror_mode": {
    "name": "ipython",
    "version": 3
   },
   "file_extension": ".py",
   "mimetype": "text/x-python",
   "name": "python",
   "nbconvert_exporter": "python",
   "pygments_lexer": "ipython3",
   "version": "3.7.10"
  },
  "varInspector": {
   "cols": {
    "lenName": 16,
    "lenType": 16,
    "lenVar": 40
   },
   "kernels_config": {
    "python": {
     "delete_cmd_postfix": "",
     "delete_cmd_prefix": "del ",
     "library": "var_list.py",
     "varRefreshCmd": "print(var_dic_list())"
    },
    "r": {
     "delete_cmd_postfix": ") ",
     "delete_cmd_prefix": "rm(",
     "library": "var_list.r",
     "varRefreshCmd": "cat(var_dic_list()) "
    }
   },
   "position": {
    "height": "201.85px",
    "left": "1166px",
    "right": "20px",
    "top": "120px",
    "width": "350px"
   },
   "types_to_exclude": [
    "module",
    "function",
    "builtin_function_or_method",
    "instance",
    "_Feature"
   ],
   "window_display": true
  }
 },
 "nbformat": 4,
 "nbformat_minor": 5
}
